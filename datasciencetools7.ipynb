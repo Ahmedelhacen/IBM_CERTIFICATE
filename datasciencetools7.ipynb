{
 "cells": [
  {
   "cell_type": "markdown",
   "metadata": {},
   "source": [
    "<center>\n",
    "    <img src=\"https://cf-courses-data.s3.us.cloud-object-storage.appdomain.cloud/IBMDeveloperSkillsNetwork-DS0105EN-SkillsNetwork/labs/Module2/images/SN_web_lightmode.png\" width=\"300\" alt=\"cognitiveclass.ai logo\">\n",
    "</center>\n"
   ]
  },
  {
   "cell_type": "markdown",
   "metadata": {},
   "source": [
    "#### Add your code below following the instructions given in the course\n"
   ]
  },
  {
   "cell_type": "markdown",
   "metadata": {},
   "source": [
    "# Data science tools \n",
    "\n"
   ]
  },
  {
   "cell_type": "markdown",
   "metadata": {},
   "source": [
    "### this jupyternotebook contains responses to some questions in the final test in order to validate this course "
   ]
  },
  {
   "cell_type": "markdown",
   "metadata": {
    "tags": []
   },
   "source": [
    "#### data science languages are : \n",
    "   - python\n",
    "   - R\n",
    "   - JUlia\n",
    "   "
   ]
  },
  {
   "cell_type": "markdown",
   "metadata": {},
   "source": [
    "###some of the data science libraries are : \n",
    "  - for Python : \n",
    "      - Pandas\n",
    "      - Matplotlib\n",
    "      - Seaborn \n",
    "      - Scikit-learn\n",
    "  - for R : \n",
    "     - dplyr \n",
    "     - ggplot2\n",
    "     \n",
    "      "
   ]
  },
  {
   "cell_type": "markdown",
   "metadata": {},
   "source": [
    "\n",
    "### table for data scince tools :\n",
    "\n",
    "|languages | development environment | distributed version control systems|\n",
    "|----------|-------------------------|------------------------------------|\n",
    "|python    | vscode                  | Git                                |\n",
    "|R         |jupyterlab               |\n",
    "|jUlia     |\n",
    "|SQL       |"
   ]
  },
  {
   "cell_type": "markdown",
   "metadata": {
    "tags": []
   },
   "source": [
    "### arithmetic expression examples : + , * ,/\n",
    "\n"
   ]
  },
  {
   "cell_type": "code",
   "execution_count": 4,
   "metadata": {
    "tags": []
   },
   "outputs": [
    {
     "name": "stdout",
     "output_type": "stream",
     "text": [
      "45\n",
      "9\n"
     ]
    }
   ],
   "source": [
    "# code to multiplie and add numbers : \n",
    "# multiplication  : \n",
    "print(3*15)\n",
    "#addition :\n",
    "print(4+5)"
   ]
  },
  {
   "cell_type": "code",
   "execution_count": null,
   "metadata": {},
   "outputs": [],
   "source": [
    "#code to convert minutes to hours : \n",
    "def convert_minutes_to_houres(minutes): \n",
    "    return minutes//60\n",
    "print(convert_minutes_toè"
   ]
  },
  {
   "cell_type": "markdown",
   "metadata": {},
   "source": [
    "### my objectives are : \n",
    "  - learn machine learning and data science\n",
    "  - get the certificate of IBM"
   ]
  },
  {
   "cell_type": "markdown",
   "metadata": {},
   "source": [
    "# AUTHOR NAME : AHMED MOHAMED EL HACEN\n"
   ]
  }
 ],
 "metadata": {
  "kernelspec": {
   "display_name": "Python",
   "language": "python",
   "name": "conda-env-python-py"
  },
  "language_info": {
   "codemirror_mode": {
    "name": "ipython",
    "version": 3
   },
   "file_extension": ".py",
   "mimetype": "text/x-python",
   "name": "python",
   "nbconvert_exporter": "python",
   "pygments_lexer": "ipython3",
   "version": "3.7.12"
  }
 },
 "nbformat": 4,
 "nbformat_minor": 4
}
